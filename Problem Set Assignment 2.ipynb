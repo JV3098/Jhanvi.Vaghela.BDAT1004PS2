{
 "cells": [
  {
   "cell_type": "markdown",
   "metadata": {},
   "source": [
    "# Problem Set 2\n"
   ]
  },
  {
   "cell_type": "markdown",
   "metadata": {},
   "source": [
    "# Question 1  \n",
    "Consider the following Python module:\n",
    "a = 0\n",
    "def b():\n",
    " global a\n",
    " a = c(a)\n",
    "def c(a):\n",
    " return a + 2\n",
    "After importing the module into the interpreter, you execute:\n",
    ">>> b()\n",
    ">>> b()\n",
    ">>> b()\n",
    ">>> a\n",
    "?\n",
    "What value is displayed when the last expression (a) is evaluated? Explain your \n",
    "answer by indicating what happens in every executed statement."
   ]
  },
  {
   "cell_type": "code",
   "execution_count": null,
   "metadata": {},
   "outputs": [],
   "source": [
    "#create Module and save it as .py file import it\n",
    "import ModuleQ1\n",
    "#a is assigned a value of 0 and incremeneted to 2\n",
    "ModuleQ1.b()\n",
    "#a is incremented to 4\n",
    "ModuleQ1.b()\n",
    "#a is incremented to 6\n",
    "ModuleQ1.b()\n",
    "ModuleQ1.a"
   ]
  },
  {
   "cell_type": "markdown",
   "metadata": {},
   "source": [
    "# Question 2\n",
    "Function fileLength(), given to you, takes the name of a file as input and returns \n",
    "the length of the file:\n",
    ">>> fileLength('midterm.py')\n",
    "284\n",
    ">>> fileLength('idterm.py')\n",
    "Traceback (most recent call last):\n",
    "File \"<pyshell#34>\", line 1, in <module>\n",
    " fileLength('idterm.py')\n",
    "File \"/Users/me/midterm.py\", line 3, in fileLength\n",
    " infile = open(filename)\n",
    "FileNotFoundError: [Errno 2] No such file or directory: \n",
    "'idterm.py'"
   ]
  },
  {
   "cell_type": "code",
   "execution_count": 1,
   "metadata": {},
   "outputs": [
    {
     "name": "stdout",
     "output_type": "stream",
     "text": [
      "File not found\n"
     ]
    }
   ],
   "source": [
    "def fileLength():\n",
    "    try:\n",
    "        file1 = open(\"idterm.py\",\"r\")\n",
    "        data = file1.read()\n",
    "        print(len(data))\n",
    "    except FileNotFoundError:\n",
    "        print('File not found')\n",
    "fileLength()"
   ]
  },
  {
   "cell_type": "markdown",
   "metadata": {},
   "source": [
    "# Question 3\n",
    "Write a class named Marsupial that can be used as shown below:\n",
    ">>> m = Marsupial()\n",
    ">>> m.put_in_pouch('doll')\n",
    ">>> m.put_in_pouch('firetruck')\n",
    ">>> m.put_in_pouch('kitten')\n",
    ">>> m.pouch_contents()\n",
    "['doll', 'firetruck', 'kitten']\n",
    " BDAT 1004 – Data Programming \n",
    "Page 3 of 7\n",
    "F2021\n",
    "BDAT 1004 Computer Studies\n",
    "Now write a class named Kangaroo as a subclass of Marsupial that inherits all the \n",
    "attributes of Marsupial and also:\n",
    "a. extends the Marsupial __init__ constructor to take, as input, the \n",
    "coordinates x and y of the Kangaroo object,\n",
    "b. supports method jump that takes number values dx and dy as input and \n",
    "moves the kangaroo by dx units along the x-axis and by dy units along the y\u0002axis, and\n",
    "c. overloads the __str__ operator so it behaves as shown below."
   ]
  },
  {
   "cell_type": "code",
   "execution_count": 3,
   "metadata": {},
   "outputs": [
    {
     "name": "stdout",
     "output_type": "stream",
     "text": [
      "Hello my name is  doll\n",
      "Hello my name is  firetruck\n",
      "Hello my name is  kitten\n",
      "['doll', 'firetruck', 'kitten']\n",
      "I am a Kangaroo located at coordinates3,0\n"
     ]
    }
   ],
   "source": [
    "class Marsupial:\n",
    "    fruits = []\n",
    "    def put_in_pouch(self,items):\n",
    "        print(\"Hello my name is \" , items)\n",
    "        self.fruits.append(items)\n",
    "    def Contents(self):\n",
    "        print(self.fruits)\n",
    "\n",
    "class Kangaroo(Marsupial):\n",
    "    da=0\n",
    "    db=0\n",
    "    def jump(self,da,db):\n",
    "        self.da=self.da+da\n",
    "        self.db=self.db+db\n",
    "   \n",
    "    def __str__(self):\n",
    "        return \"I am a Kangaroo located at coordinates\" + str(self.da) +\",\"+ str(self.db)\n",
    "\n",
    "j = Marsupial()\n",
    "j.put_in_pouch('doll')\n",
    "j.put_in_pouch('firetruck')\n",
    "j.put_in_pouch('kitten')\n",
    "j.Contents()\n",
    "k = Kangaroo()\n",
    "k.jump(1,0)\n",
    "k.jump(1,0)\n",
    "k.jump(1,0)\n",
    "print(k)"
   ]
  },
  {
   "cell_type": "markdown",
   "metadata": {},
   "source": [
    "# Question 4\n",
    "Write function collatz() that takes a positive integer x as input and prints the \n",
    "Collatz sequence starting at x. A Collatz sequence is obtained by repeatedly applying \n",
    "this rule to the previous number x in the sequence:\n",
    "x = {\n",
    "𝑥/2 𝑖𝑓 𝑥 𝑖𝑠 𝑒𝑣𝑒𝑛\n",
    "3𝑥 + 1 𝑖𝑓 𝑥 𝑖𝑠 𝑜𝑑𝑑\n",
    "Your function should stop when the sequence gets to number 1. Your \n",
    "implementation must be recursive, without any loops."
   ]
  },
  {
   "cell_type": "code",
   "execution_count": 4,
   "metadata": {},
   "outputs": [
    {
     "name": "stdout",
     "output_type": "stream",
     "text": [
      "1\n",
      "10\n",
      "5.0\n",
      "16.0\n",
      "8.0\n",
      "4.0\n",
      "2.0\n",
      "1.0\n"
     ]
    }
   ],
   "source": [
    "def collatz(a):\n",
    "    while(a>1):\n",
    "        if (a % 2) == 0:\n",
    "            print(a)\n",
    "            a=a/2\n",
    "        else:\n",
    "            print(a)\n",
    "            a=(3*a)+1\n",
    "    print(a)\n",
    "collatz(1)\n",
    "collatz(10)"
   ]
  },
  {
   "cell_type": "markdown",
   "metadata": {},
   "source": [
    "# Question 5\n",
    "Write a recursive method binary() that takes a non-negative o9\n",
    "integer n and prints the binary representation of integer n."
   ]
  },
  {
   "cell_type": "code",
   "execution_count": null,
   "metadata": {
    "collapsed": true
   },
   "outputs": [],
   "source": [
    "def binary(n):\n",
    "   if n > 1:\n",
    "       binary(n//2)\n",
    "   print(n % 2,end = '')\n",
    "num = input(\"Enter the decimal   \")\n",
    "binary(int(num))\n",
    "num = input(\"Enter the decimal   \")\n",
    "binary(int(num))"
   ]
  },
  {
   "cell_type": "markdown",
   "metadata": {},
   "source": [
    "# Question 6\n",
    "Implement a class named HeadingParser that can be used to parse an HTML \n",
    "document, and retrieve and print all the headings in the document. You should \n",
    "implement your class as a subclass of HTMLParser, defined in Standard Library \n",
    "module html.parser. When fed a string containing HTML code, your class should \n",
    "print the headings, one per line and in the order in which they appear in the \n",
    "document. Each heading should be indented as follows: an h1 heading should have \n",
    "indentation 0, and h2 heading should have indentation 1, etc. Test your \n",
    "implementation using w3c.html.. "
   ]
  },
  {
   "cell_type": "code",
   "execution_count": null,
   "metadata": {},
   "outputs": [],
   "source": [
    "from html.parser import HTMLParser\n",
    "class HeadingParser(HTMLParser):\n",
    "    inHeading = False\n",
    "    def handle_starttag(self, tag, attrs):\n",
    "        if tag == \"h1\" or tag == \"h2\" or tag == \"h3\" or tag == \"h4\" or tag == \"h5\" or tag == \"h6\":\n",
    "            self.inHeading = True\n",
    "    def handle_data(self, data):\n",
    "        if self.inHeading:\n",
    "            print(data)\n",
    "hParser = HeadingParser()\n",
    "file = open(\"w3c.html\", \"r\")\n",
    "html = file.read()\n",
    "file.close()\n",
    "hParser.feed(html)"
   ]
  },
  {
   "cell_type": "markdown",
   "metadata": {},
   "source": [
    "# Question 8\n",
    "Write a function curconv() that takes as input:  1. a currency represented using a string (e.g., 'JPY' for the Japanese Yen or 'EUR' for the Euro) 2. an amount  and then converts and returns the amount in US dollars. Write SQL queries on the below database table that return: \n",
    "a) All the temperature data.\n",
    "b) All the cities, but without repetition.\n",
    "c) All the records for India.\n",
    "d) All the Fall records.\n",
    " BDAT 1004 – Data Programming \n",
    "Page 6 of 7\n",
    "F2021\n",
    "BDAT 1004 Computer Studies\n",
    "e) The city, country, and season for which the average rainfall is between 200 \n",
    "and 400 millimeters.\n",
    "f) The city and country for which the average Fall temperature is above 20 \n",
    "degrees, in increasing temperature order.\n",
    "g) The total annual rainfall for Cairo.\n",
    "h) The total rainfall for each season"
   ]
  },
  {
   "cell_type": "code",
   "execution_count": null,
   "metadata": {},
   "outputs": [],
   "source": [
    "import sqlite3\n",
    "\n",
    "conn = sqlite3.connect('test.db')\n",
    "print (\"Opened database successfully\")\n",
    "conn.execute(\"drop table Weather\")\n",
    "conn.commit()\n",
    "conn.execute('''CREATE TABLE Weather(\n",
    "\tcity varchar(10) ,\n",
    "\tcountry varchar(10) ,\n",
    "\tseason varchar(10) ,\n",
    "\ttemperature float ,\n",
    "\trainfall float \n",
    "); ''')\n",
    "print (\"Table created successfully\")\n",
    "conn.commit()\n",
    "conn.execute(\"INSERT INTO Weather (city,country,season,temperature,rainfall) values \\\n",
    "             ('Mumbai' ,'India' ,'Winter', 24.8 ,5.9)\");\n",
    "\n",
    "conn.execute(\"INSERT INTO Weather (city,country,season,temperature,rainfall) values \\\n",
    "             ('Mumbai' ,'India' ,'Spring', 28.4 ,16.2)\");\n",
    "\n",
    "conn.execute(\"INSERT INTO Weather (city,country,season,temperature,rainfall) values \\\n",
    "            ('Mumbai' ,'India' ,'Summer', 27.9 ,1549.4)\");\n",
    "\n",
    "conn.execute(\"INSERT INTO Weather (city,country,season,temperature,rainfall) values ('Mumbai' ,'India' ,'Fall' ,27.6, 346.0)\");\n",
    "conn.execute(\"INSERT INTO Weather (city,country,season,temperature,rainfall) values ('London' ,'United Kingdom' ,'Winter' ,4.2 ,207.7)\");\n",
    "conn.execute(\"INSERT INTO Weather (city,country,season,temperature,rainfall) values ('London' ,'United Kingdom' ,'Spring',8.3 ,169.6)\");\n",
    "conn.execute(\"INSERT INTO Weather (city,country,season,temperature,rainfall) values ('London' ,'United Kingdom' ,'Summer' ,15.7, 157.0)\");\n",
    "conn.execute(\"INSERT INTO Weather (city,country,season,temperature,rainfall) values ('London' ,'United Kingdom' ,'Fall' ,10.4, 218.5)\");\n",
    "conn.execute(\"INSERT INTO Weather (city,country,season,temperature,rainfall) values ('Cairo','Egypt' ,'Winter' ,13.6 ,16.5)\");\n",
    "conn.execute(\"INSERT INTO Weather (city,country,season,temperature,rainfall) values ('Cairo' ,'Egypt' ,'Spring' ,20.7 ,6.5)\");\n",
    "conn.execute(\"INSERT INTO Weather (city,country,season,temperature,rainfall) values ('Cairo' ,'Egypt' ,'Summer' ,27.7 ,0.1)\");\n",
    "conn.execute(\"INSERT INTO Weather (city,country,season,temperature,rainfall) values ('Cairo','Egypt' ,'Fall' ,22.2 ,4.5)\");\n",
    "conn.commit()\n",
    "#a\n",
    "cursor = conn.execute(\"SELECT Temperature FROM Weather\");\n",
    "print(cursor.fetchall())\n",
    "#b\n",
    "cursor = conn.execute(\"SELECT distinct city FROM Weather\");\n",
    "print(cursor.fetchall())\n",
    "#c\n",
    "cursor = conn.execute(\"SELECT * FROM Weather where Country = 'India'\");\n",
    "print(cursor.fetchall())\n",
    "#d\n",
    "cursor = conn.execute(\"SELECT * FROM Weather where season  = 'Fall'\");\n",
    "print(cursor.fetchall())\n",
    "#e\n",
    "cursor = conn.execute(\"SELECT city,country,season FROM Weather group by city,country,season having  avg(rainfall) > 200 and  avg(rainfall) < 400\");\n",
    "print(cursor.fetchall())\n",
    "#f\n",
    "cursor = conn.execute(\"SELECT city,country FROM Weather where  season = 'Fall' group by city,country having  avg(temperature) > 20\");\n",
    "print(cursor.fetchall())\n",
    "#g\n",
    "cursor = conn.execute(\"SELECT city,sum(rainfall) as annualRain FROM Weather  group by city having  city = 'Cairo'\");\n",
    "print(cursor.fetchall())\n",
    "#h\n",
    "cursor = conn.execute(\"SELECT season,sum(rainfall) as annualRain FROM Weather  group by season\");\n",
    "print(cursor.fetchall())\n",
    "conn.close()"
   ]
  },
  {
   "cell_type": "markdown",
   "metadata": {},
   "source": [
    "# Question 9\n",
    "Suppose list words is defined as follows:\n",
    ">>> words = ['The', 'quick', 'brown', 'fox', 'jumps', 'over', \n",
    "'the', 'lazy', 'dog']\n",
    "Write list comprehension expressions that use list words and generate the following \n",
    "lists:\n",
    "a) ['THE', 'QUICK', 'BROWN', 'FOX', 'JUMPS', 'OVER', 'THE', \n",
    "'LAZY', 'DOG']\n",
    "b) ['the', 'quick', 'brown', 'fox', 'jumps', 'over', 'the', \n",
    "'lazy', 'dog']\n",
    "c) [3, 5, 5, 3, 5, 4, 3, 4, 3] (the list of lengths of words in list \n",
    "words).\n",
    "d) [['THE', 'the', 3], ['QUICK', 'quick', 5], ['BROWN', \n",
    "'brown', 5], ['FOX', 'fox', 3], ['JUMPS', 'jumps', 5], \n",
    "['OVER', 'over', 4], ['THE', 'the', 3], ['LAZY', 'lazy', \n",
    "4], ['DOG', 'dog', 3]] (the list containing a list for every word of list \n",
    "words, where each list contains the word in uppercase and lowercase and the \n",
    "length of the word.)\n",
    "e) ['The', 'quick', 'brown', 'fox', 'jumps', 'over', 'the', \n",
    "'lazy', 'dog'] (the list of words in list words containing 4 or more \n",
    "characters."
   ]
  },
  {
   "cell_type": "code",
   "execution_count": 7,
   "metadata": {},
   "outputs": [
    {
     "name": "stdout",
     "output_type": "stream",
     "text": [
      "['THE', 'QUICK', 'BROWN', 'FOX', 'JUMPS', 'OVER', 'THE', 'LAZY', 'DOG']\n",
      "['the', 'quick', 'brown', 'fox', 'jumps', 'over', 'the', 'lazy', 'dog']\n",
      "[3, 5, 5, 3, 5, 4, 3, 4, 3]\n",
      "[['THE', 'the', 3], ['QUICK', 'quick', 5], ['BROWN', 'brown', 5], ['FOX', 'fox', 3], ['JUMPS', 'jumps', 5], ['OVER', 'over', 4], ['THE', 'the', 3], ['LAZY', 'lazy', 4], ['DOG', 'dog', 3]]\n",
      "['quick', 'brown', 'jumps', 'over', 'lazy']\n"
     ]
    }
   ],
   "source": [
    "words = ['The', 'quick', 'brown', 'fox', 'jumps', 'over',\n",
    "'the', 'lazy', 'dog']\n",
    "temp = []\n",
    "for x in words:\n",
    "    temp.append(x.upper())\n",
    "print(temp)\n",
    "temp.clear()\n",
    "for x in words:\n",
    "    temp.append(x.lower())\n",
    "print(temp)\n",
    "temp.clear()\n",
    "for x in words:\n",
    "    temp.append(len(x))\n",
    "print(temp)\n",
    "temp.clear()\n",
    "for x in words:\n",
    "    temp2List = []\n",
    "    temp2List.append(x.upper())\n",
    "    temp2List.append(x.lower())\n",
    "    temp2List.append(len(x))\n",
    "    temp.append(temp2List)\n",
    "print(temp)\n",
    "temp.clear()\n",
    "for x in words:\n",
    "    if len(x) >=4:\n",
    "        temp.append(x)\n",
    "print(temp)"
   ]
  }
 ],
 "metadata": {
  "kernelspec": {
   "display_name": "Python 3",
   "language": "python",
   "name": "python3"
  },
  "language_info": {
   "codemirror_mode": {
    "name": "ipython",
    "version": 3
   },
   "file_extension": ".py",
   "mimetype": "text/x-python",
   "name": "python",
   "nbconvert_exporter": "python",
   "pygments_lexer": "ipython3",
   "version": "3.8.8"
  }
 },
 "nbformat": 4,
 "nbformat_minor": 2
}
